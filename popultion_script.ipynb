{
 "cells": [
  {
   "cell_type": "code",
   "execution_count": 6,
   "metadata": {},
   "outputs": [],
   "source": [
    "import requests\n",
    "from bs4 import BeautifulSoup\n",
    "import pandas as pd"
   ]
  },
  {
   "cell_type": "code",
   "execution_count": null,
   "metadata": {},
   "outputs": [],
   "source": [
    "\n",
    "\n",
    "url = \"https://www.worldometers.info/world-population/nigeria-population/#:~:text=The%20current%20population%20of%20Nigeria,latest%20United%20Nations%20data%201.\"\n",
    "response =requests.get(url)\n",
    "soup = BeautifulSoup(response.text,'html.parser')"
   ]
  },
  {
   "cell_type": "code",
   "execution_count": 7,
   "metadata": {},
   "outputs": [
    {
     "data": {
      "text/plain": [
       "<Response [200]>"
      ]
     },
     "execution_count": 7,
     "metadata": {},
     "output_type": "execute_result"
    }
   ],
   "source": [
    "response"
   ]
  },
  {
   "cell_type": "code",
   "execution_count": 8,
   "metadata": {},
   "outputs": [
    {
     "data": {
      "text/plain": [
       "\"\\n       Nigeria Population (2024) - Worldometer                      Coronavirus Population       WPopulation WorldAfricaWestern AfricaNigeria    Nigeria Population (LIVE)  retrieving data...      Nigeria Population (1950 - 2024)    Yearly Population Growth Rate (%)         The current population of Nigeria is 227,569,196 as of Sunday, March 17, 2024, based on Worldometer elaboration of the latest United Nations data 1. Nigeria 2023 population is estimated at 223,804,632 people at mid year. Nigeria population is equivalent to 2.78% of the total world population.Nigeria ranks number 6 in the list of countries (and dependencies) by population.The population density in Nigeria is 246 per Km2 (636 people per mi2).The total land area is 910,770 Km2 (351,650 sq. miles)53.9 % of the population is urban (120,696,717 people in 2023)The median age in Nigeria is 17.2 years.  1. Updated on July 16, 2023 with the latest July 2023-July 2024 estimates from the United Nations, Department of Economic and Social Affairs, Population Division. World Population Prospects: The 2022 Revision. (Medium-fertility variant).  Population of Nigeria (2024 and historical)   YearPopulationYearly %  ChangeYearly ChangeMigrants (net)Median AgeFertility RateDensity (P/Km²)Urban Pop %Urban PopulationCountry's Share of World PopWorld PopulationNigeriaGlobal Rank  2024 229,152,217 2.39 % 5,347,585 -59,996 17.4 4.99 252 54.7 % 125,447,884 2.82 % 8,118,835,999 6   2023 223,804,632 2.41 % 5,263,420 -59,996 17.2 5.06 246 53.9 % 120,696,717 2.78 % 8,045,311,447 6   2022 218,541,212 2.41 % 5,139,889 -59,996 17.1 5.14 240 53.1 % 116,057,853 2.74 % 7,975,105,156 6   2020 208,327,405 2.47 % 5,022,913 -4,824 16.9 5.31 229 51.4 % 107,112,526 2.66 % 7,840,952,880 7  2015 183,995,785 2.71 % 4,608,586 -145,917 16.7 5.62 202 47.1 % 86,673,094 2.48 % 7,426,597,537 7  2010 160,952,853 2.76 % 4,092,426 18,073 16.7 5.98 177 42.8 % 68,949,828 2.30 % 6,985,603,105 7 2005 140,490,722 2.72 % 3,527,748 -46,749 17.0 6.07 154 38.6 % 54,288,918 2.14 % 6,558,176,119 9  2000 122,851,984 2.57 % 2,932,87534,146 17.0 6.12 135 34.7 % 42,627,440 2.00 % 6,148,898,975 10 1995 108,187,610 2.59 % 2,594,671 43,504 16.7 6.27 119 32.2 % 34,785,545 1.88 % 5,743,219,454 10 1990 95,214,257 2.64 % 2,325,801 107,212 16.4 6.46 105 29.7 % 28,276,132 1.79 % 5,316,175,862 10 1985 83,585,251 2.76 % 2,126,762 19,791 16.5 6.62 92 25.6 % 21,434,266 1.72 % 4,861,730,613 10 1980 72,951,439 3.03 % 2,020,025 184,467 17.0 6.85 80 22.1 % 16,139,321 1.64 % 4,444,007,706 11 1975 62,851,312 2.49 % 1,456,410 75,448 17.5 6.77 69 19.9 % 12,535,584 1.54 % 4,069,437,231 11 1970 55,569,264 2.16 % 1,128,693 7,960 18.0 6.47 61 17.9 % 9,942,297 1.50 % 3,695,390,336 12 1965 49,925,799 2.13 % 999,491 28,207 18.3 6.37 55 16.6 % 8,296,771 1.50 % 3,337,111,983 14 1960 44,928,342 1.93 % 817,824 12,174 18.3 6.36 49 15.5 % 6,955,737 1.49 % 3,019,233,434 14 1955 40,839,223 1.89 % 729,971 -12,619 18.3 6.40 45 12.1 % 4,952,844 1.49 % 2,746,072,141 14  Source: Worldometer (www.Worldometers.info) Elaboration of data by United Nations, Department of Economic and Social Affairs, Population Division. World Population Prospects: The 2022 Revision. (Medium-fertility variant).  back to top ↑Nigeria Population Forecast -59,996   YearPopulationYearly %  ChangeYearly ChangeMigrants (net)Median AgeFertility RateDensity (P/Km²)Urban Pop %Urban PopulationCountry's Share of World PopWorld PopulationNigeriaGlobal Rank   2025 234,573,603 2.40 % 5,249,240 -59,996 17.5 4.90 258 55.6 % 130,312,056 2.86 % 8,191,988,453 6 2030 262,580,426 2.28 % 5,601,365 -59,996 18.3 4.45 288 59.5 % 156,299,881 3.07 % 8,546,141,327 6 2035 291,591,598 2.12 % 5,802,234 -59,996 19.1 4.00 320 63.4 % 184,887,647 3.28 % 8,879,397,401 6 2040 320,779,660 1.93 % 5,837,612 -59,996 20.1 3.61 352 67.4 % 216,083,536 3.49 % 9,188,250,492 5 2045 349,603,702 1.74 % 5,764,808 -59,996 21.2 3.26 384 71.6 % 250,285,391 3.69 % 9,467,543,575 4 2050 377,459,883 1.55 % 5,571,236 \\xa0 22.4 2.99 414 76.1 % 287,130,349 3.89 % 9,709,491,761 3   Source: Worldometer (www.Worldometers.info) Elaboration of data by United Nations, Department of Economic and Social Affairs, Population Division. World Population Prospects: The 2022 Revision. (Medium-fertility variant).   Nigeria Demographics Main Page: Demographics of Nigeria   \\tLife Expectancy 53.87 years(life expectancy at birth, both sexes)View by sex and historical chart  \\tInfant Mortality 70.6(infant deaths per 1,000 live births)View historical chart Deaths under age 5 109.1 (per 1,000 live births)View historical chart  Main Cities by Population in Nigeria(includes boroughs, districts, urban agglomerations, etc.)     # CITY NAME POPULATION     1 Lagos 9,000,000   2 Kano 3,626,068   3 Ibadan 3,565,108   4 Kaduna 1,582,102   5 Port Harcourt 1,148,665   6 Benin City 1,125,058   7 Maiduguri 1,112,449   8 Zaria 975,153   9 Aba 897,560   10 Jos 816,824   11 Ilorin 814,192   12 Oyo 736,072   13 Enugu 688,862   14 Abeokuta 593,100   15 Abuja 590,400   16 Sokoto 563,861   17 Onitsha 561,066   18 Warri 536,023   19 Ebute Ikorodu 535,619   20 Okene 479,178   21 Calabar 461,796   22 Uyo 436,606   23 Katsina 432,149   24 Ado-Ekiti 424,340   25 Akure 420,594   26 Bauchi 316,149   27 Ikeja 313,196   28 Makurdi 292,645   29 Minna 291,905   30 Efon-Alaaye 279,319   31 Ilesa 277,904   32 Owo 276,574   33 Umuahia 264,662   34 Ondo 257,005   35 Ikot Ekpene 254,806   36 Iwo 250,443   37 Gombe 250,258   38 Jimeta 248,148   39 Atani 230,000   40 Gusau 226,857   41 Mubi 225,705   42 Ikire 222,160   43 Owerri 215,038   44 Shagamu 214,558   45 Ijebu-Ode 209,175   46 Ugep 200,276   47 Nnewi 193,987   48 Ise-Ekiti 190,063   49 Ila Orangun 179,192   50 Saki 178,677   51 Bida 171,656   52 Awka 167,738   53 Ijero-Ekiti 167,632   54 Inisa 164,161   55 Suleja 162,135   56 Sapele 161,686   57 Osogbo 156,694   58 Kisi 155,510   59 Gbongan 139,485   60 Ejigbo 138,357   61 Funtua 136,811   62 Igboho 136,764   63 Buguma 135,404   64 Ikirun 134,240   65 Abakaliki 134,102   66 Okrika 133,271   67 Amaigbo 127,300   68 Lafia 127,236   69 Gashua 125,817   70 Modakeke 119,529   See also  Demographics of Nigeria Median Age (Historical Chart)Total Fertility Rate (Historical Chart)Urban vs. Rural Population (Historical Chart) Gross Domestic Product (GDP) of Nigeria Africa Population World Population World Map World Population by Country   back to top ↑  Notes The Nigeria Population (Live) counter shows a continuously updated estimate of the current population of Nigeria delivered by Worldometer's RTS algorithm, which processes data collected from the United Nations Population Division. The Population of Nigeria (1950 - 2023) chart plots the total population count as of July 1 of each year, from 1950 to 2023. The Yearly Population Growth Rate chart plots the annual percentage changes in population registered on July 1 of each year, from 1951 to 2023. This value can differ from the Yearly % Change shown in the historical table, which shows the last year equivalent percentage change assuming homogeneous change in the preceding five year period.   Definitions Year: as of July 1 of the year indicated. Population: Overall total population (both sexes and all ages) in the country as of July 1 of the year indicated, as estimated by the United Nations, Department of Economic and Social Affairs, Population Division. World Population Prospects: The 2022 Revision. For forecasted years, the U.N. medium-fertility variant is used.  Read More Definitions...  Yearly % Change: For 2023: percentage change in total population over the last year (from July 1, 2022 to June 30 2023). For all other years: latest year annual percentage change equivalent assuming homogeneous change in the preceding five year period, calculated through reverse compounding.  Yearly Change: For 2023: absolute change in total population (increase or decrease in number of people) over the last year (from July 1, 2022 to June 30 2023). For all other years: average annual numerical change over the preceding five year period. Migrants (net): The average annual number of immigrants minus the number of emigrants over the preceding five year period (running from July 1 to June 30 of the initial and final years), or subsequent five year period (for 2016 data). A negative number means that there are more emigrants than immigrants.  Median Age: age that divides the population into two numerically equal groups: half of the people are older than the median age indicated and half are younger. This parameter provides an indication of age distribution. Fertility Rate: (Total Fertility Rate, or TFR), it is expressed as children per woman. It is calculated as the average number of children an average woman will have during her reproductive period (15 to 49 years old) based on the current fertility rates of every age group in the country, and assuming she is not subject to mortality. Density (P/Km²): (Population Density) Population per square Kilometer (Km²). Urban Pop % : Urban population as a percentage of total population. Urban Population: Population living in areas classified as urban according to the criteria used by each country. Country's Share of World Pop: Total population in the country as a percentage of total World Population as of July 1 of the year indicated. World Population: Total World Population as of July 1 of the year indicated. Global Rank: Position held by Nigeria in the list of all countries worldwide ranked by population (from the highest population to the lowest population) as of July 1 of the year indicated.  Share This!   about | faq | languages | contact   © Copyright Worldometers.info - All rights reserved - Disclaimer & Privacy Policy   \""
      ]
     },
     "execution_count": 8,
     "metadata": {},
     "output_type": "execute_result"
    }
   ],
   "source": [
    "soup.text"
   ]
  },
  {
   "cell_type": "code",
   "execution_count": 16,
   "metadata": {},
   "outputs": [
    {
     "name": "stdout",
     "output_type": "stream",
     "text": [
      "None\n"
     ]
    }
   ],
   "source": [
    "\n",
    "table = soup.find('table', class_ = 'table table-striped table-bordered table-hover table-condensed table-list')\n",
    "print(table)"
   ]
  },
  {
   "cell_type": "code",
   "execution_count": 18,
   "metadata": {},
   "outputs": [
    {
     "name": "stdout",
     "output_type": "stream",
     "text": [
      "['Year', 'Population', 'Yearly %  Change', 'Yearly Change', 'Migrants (net)', 'Median Age', 'Fertility Rate', 'Density (P/Km²)', 'Urban Pop %', 'Urban Population', \"Country's Share of World Pop\", 'World Population', 'NigeriaGlobal Rank']\n"
     ]
    }
   ],
   "source": [
    "table = soup.find('table', class_='table table-striped table-bordered table-hover table-condensed table-list')\n",
    "\n",
    "if table:\n",
    "    header_row = table.find('thead').find('tr')\n",
    "    if header_row:\n",
    "        header_cells = header_row.find_all('th')\n",
    "        header = [cell.text.strip() for cell in header_cells]\n",
    "        print(header)\n",
    "    else:\n",
    "        print(\"Table header row not found.\")\n",
    "else:\n",
    "    print(\"Table not found.\")"
   ]
  },
  {
   "cell_type": "code",
   "execution_count": 19,
   "metadata": {},
   "outputs": [
    {
     "data": {
      "text/plain": [
       "['Year',\n",
       " 'Population',\n",
       " 'Yearly %  Change',\n",
       " 'Yearly Change',\n",
       " 'Migrants (net)',\n",
       " 'Median Age',\n",
       " 'Fertility Rate',\n",
       " 'Density (P/Km²)',\n",
       " 'Urban Pop %',\n",
       " 'Urban Population',\n",
       " \"Country's Share of World Pop\",\n",
       " 'World Population',\n",
       " 'NigeriaGlobal Rank']"
      ]
     },
     "execution_count": 19,
     "metadata": {},
     "output_type": "execute_result"
    }
   ],
   "source": [
    "header_row = table.find('thead').find_all('th')\n",
    "header_names =[header.text.strip() for header in header_row]\n",
    "header_names"
   ]
  },
  {
   "cell_type": "code",
   "execution_count": null,
   "metadata": {},
   "outputs": [],
   "source": []
  }
 ],
 "metadata": {
  "kernelspec": {
   "display_name": "Python 3",
   "language": "python",
   "name": "python3"
  },
  "language_info": {
   "codemirror_mode": {
    "name": "ipython",
    "version": 3
   },
   "file_extension": ".py",
   "mimetype": "text/x-python",
   "name": "python",
   "nbconvert_exporter": "python",
   "pygments_lexer": "ipython3",
   "version": "3.12.1"
  }
 },
 "nbformat": 4,
 "nbformat_minor": 2
}
